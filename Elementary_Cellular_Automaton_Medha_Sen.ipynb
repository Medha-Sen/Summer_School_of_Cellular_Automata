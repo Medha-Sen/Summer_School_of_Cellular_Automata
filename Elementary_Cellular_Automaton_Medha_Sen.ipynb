{
  "nbformat": 4,
  "nbformat_minor": 0,
  "metadata": {
    "colab": {
      "provenance": []
    },
    "kernelspec": {
      "name": "python3",
      "display_name": "Python 3"
    },
    "language_info": {
      "name": "python"
    }
  },
  "cells": [
    {
      "cell_type": "markdown",
      "source": [
        "This program, requires the number of cells (**n**) and the ECA rule number (**r**) to be specified by the user and then returns the evolution of the ECA for all possible initial configurations considering both null boundary conditions and periodic boundary conditions."
      ],
      "metadata": {
        "id": "gIhbhOGf9QYV"
      }
    },
    {
      "cell_type": "code",
      "execution_count": null,
      "metadata": {
        "id": "gfAT8Zou9MQm"
      },
      "outputs": [],
      "source": [
        "from itertools import product\n",
        "global n\n",
        "global d\n",
        "def periodic_boundary(s):\n",
        "    repeat=[s]\n",
        "    print(\"At time t=0 configuration is \", s)\n",
        "    t=1\n",
        "    while s!=None:\n",
        "        for i in range(0,n):\n",
        "          if i==0:\n",
        "              temp=str(d[s[n-1:]+s[0:2]])\n",
        "          elif i==n-1:\n",
        "              temp=temp+str(d[s[i-1:]+s[0:1]])\n",
        "          else:\n",
        "              temp=temp+str(d[s[i-1:i+2]])\n",
        "        if temp in repeat:\n",
        "            ss=temp\n",
        "            s=None\n",
        "        else:\n",
        "            s=temp\n",
        "            repeat.append(temp)\n",
        "            print(\"At time instant t=\",t,\" configuration is \", s)\n",
        "        t=t+1\n",
        "    print(\"Now states repeat... starting with \",ss)\n",
        "def null_boundary(s):\n",
        "    repeat=[s]\n",
        "    print(\"At time t=0 configuration is \", s)\n",
        "    t=1\n",
        "    while s!=None:\n",
        "        for i in range(0,n):\n",
        "          if i==0:\n",
        "              temp=str(d[\"0\"+s[0:2]])\n",
        "              #print(str(\"0\"+s[0:2]))\n",
        "          elif i==n-1:\n",
        "              temp=temp+str(d[s[i-1:]+\"0\"])\n",
        "              #print(str(s[i-1:]+s[n-1:]))\n",
        "          else:\n",
        "              temp=temp+str(d[s[i-1:i+2]])\n",
        "              #print(str(d[s[i-1:i+2]]))\n",
        "        if temp in repeat:\n",
        "            ss=temp\n",
        "            s=None\n",
        "        else:\n",
        "            s=temp\n",
        "            repeat.append(temp)\n",
        "            print(\"At time instant t=\",t,\" configuration is \", s)\n",
        "        t=t+1\n",
        "    print(\"Now states repeat... starting with \",ss)\n",
        "def generate_binary_numbers(length):\n",
        "    numbers = ['0', '1']\n",
        "    return [''.join(number) for number in product(numbers, repeat=length)]\n",
        "n=int(input(\"Enter the number of cells\\n\"))\n",
        "l=generate_binary_numbers(n)\n",
        "d={}\n",
        "print(\"Enter the ECA Rule number\")\n",
        "r=int(input())\n",
        "print(\"\\n****************************************\")\n",
        "width = 8\n",
        "binary = format(r, f'0{width}b')\n",
        "d[\"000\"]=binary[7:8]\n",
        "d[\"001\"]=binary[6:7]\n",
        "d[\"010\"]=binary[5:6]\n",
        "d[\"011\"]=binary[4:5]\n",
        "d[\"100\"]=binary[3:4]\n",
        "d[\"101\"]=binary[2:3]\n",
        "d[\"110\"]=binary[1:2]\n",
        "d[\"111\"]=binary[0:1]\n",
        "for s in l:\n",
        "  print(\"Using null boundary conditions:\")\n",
        "  print(\"\\n\")\n",
        "  null_boundary(s)\n",
        "  print(\"\\n\")\n",
        "  print(\"Using periodic boundary conditions:\")\n",
        "  print(\"\\n\")\n",
        "  periodic_boundary(s)\n",
        "  print(\"*****************************************\")\n"
      ]
    }
  ]
}
